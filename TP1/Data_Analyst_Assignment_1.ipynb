{
  "cells": [
    {
      "cell_type": "markdown",
      "metadata": {
        "id": "view-in-github",
        "colab_type": "text"
      },
      "source": [
        "<a href=\"https://colab.research.google.com/github/TomasContrerasMA/CienciaDatos_Tom_Diplomado/blob/main/TP1/Data_Analyst_Assignment_1.ipynb\" target=\"_parent\"><img src=\"https://colab.research.google.com/assets/colab-badge.svg\" alt=\"Open In Colab\"/></a>"
      ]
    },
    {
      "cell_type": "markdown",
      "metadata": {
        "id": "aLnNZc0IvUn3"
      },
      "source": [
        "#Data Analyst Assignment"
      ]
    },
    {
      "cell_type": "markdown",
      "metadata": {
        "id": "G26Ao7nQvahf"
      },
      "source": [
        "## Introduction\n",
        "\n",
        "You are working with a US retail customer on a pilot deployment.  They are using technology to track their merchandise throughout their supply chain.  The flow of their supply is:\n",
        "\n",
        "*   **DC 1:**  Orders are filled and palletized.\n",
        "*   **Truck:** Pallets travel from the DC 1 to DC 2 via semi-truck.\n",
        "*   **DC 2:**  Pallets are unloaded, and additional merchandise may be added.  They are then reloaded onto a new truck.\n",
        "*   **Truck:** Pallets travel from DC 2 to the Store.\n",
        "*   **Store:** Pallets are unloaded, cases are removed, and stocked, and the empty cases are left behind the building awaiting pickup.\n",
        "\n",
        "Your job is to dig into the data and find compelling insights to show the value fo the technology and help move the contract from a pilot into a full scaled deployment.\n",
        "\n",
        "\n",
        "\n",
        "---"
      ]
    },
    {
      "cell_type": "markdown",
      "metadata": {
        "id": "QLGYgyeQwO00"
      },
      "source": [
        "## Part 0: Imports\n",
        "\n",
        "Import necessary packages and"
      ]
    },
    {
      "cell_type": "code",
      "execution_count": 1,
      "metadata": {
        "id": "dOSZ-z9degpC"
      },
      "outputs": [],
      "source": [
        "import pandas as pd"
      ]
    },
    {
      "cell_type": "code",
      "source": [
        "A=pd.read_excel('/content/Assignment_1.xlsx')"
      ],
      "metadata": {
        "id": "Z5_-HatbooO9"
      },
      "execution_count": 3,
      "outputs": []
    },
    {
      "cell_type": "code",
      "source": [
        "A"
      ],
      "metadata": {
        "colab": {
          "base_uri": "https://localhost:8080/",
          "height": 617
        },
        "id": "vJQvkw6Ilivv",
        "outputId": "24a94d15-401b-4508-8773-a543df9c215c"
      },
      "execution_count": 23,
      "outputs": [
        {
          "output_type": "execute_result",
          "data": {
            "text/plain": [
              "       asset_type  asset_id                           tag_id   Site  \\\n",
              "0            tote         2  (01)00850027865010(21)0082T0219   DC 1   \n",
              "1            tote         2  (01)00850027865010(21)0082T0219   DC 1   \n",
              "2            tote         2  (01)00850027865010(21)0082T0219   DC 1   \n",
              "3            tote         2  (01)00850027865010(21)0082T0219   DC 1   \n",
              "4            tote         2  (01)00850027865010(21)0082T0670   DC 1   \n",
              "...           ...       ...                              ...    ...   \n",
              "130056       tote       205  (01)00850027865010(21)0082T1137  Store   \n",
              "130057       tote       205  (01)00850027865010(21)0082T1137  Store   \n",
              "130058       tote       205  (01)00850027865010(21)0082T1137  Store   \n",
              "130059       tote       205  (01)00850027865010(21)0082T1137  Store   \n",
              "130060       tote       205  (01)00850027865010(21)0082T1137  Store   \n",
              "\n",
              "                     Zone     device_id                time_est       lat  \\\n",
              "0          dock_doors_DC1  7F9A8353E973 2022-08-02 11:59:26.628  47.79158   \n",
              "1          dock_doors_DC1  EC5B0499234F 2022-08-02 12:00:22.660  47.79158   \n",
              "2          dock_doors_DC1  7F9A8353E973 2022-08-02 12:01:11.234  47.79158   \n",
              "3          dock_doors_DC1  3D8B2BDB8673 2022-08-02 13:47:58.172  47.79158   \n",
              "4          dock_doors_DC1  7F9A8353E973 2022-08-02 11:58:55.049  47.79158   \n",
              "...                   ...           ...                     ...       ...   \n",
              "130056  store_front_Store  26AB1C9A2E41 2022-08-04 12:48:51.273  47.74923   \n",
              "130057  store_front_Store  26AB1C9A2E41 2022-08-04 12:49:58.699  47.74923   \n",
              "130058  store_front_Store  26AB1C9A2E41 2022-08-04 12:52:45.173  47.74923   \n",
              "130059  store_front_Store  26AB1C9A2E41 2022-08-04 12:53:48.228  47.74923   \n",
              "130060  store_front_Store  26AB1C9A2E41 2022-08-04 16:33:25.525  47.74923   \n",
              "\n",
              "             lng  Temperature_C  Temperature_F  \n",
              "0      -65.68902           23.0          73.40  \n",
              "1      -65.68902           23.0          73.40  \n",
              "2      -65.68902           23.0          73.40  \n",
              "3      -65.68902           23.5          74.30  \n",
              "4      -65.68902           23.0          73.40  \n",
              "...          ...            ...            ...  \n",
              "130056 -65.64101           23.1          73.58  \n",
              "130057 -65.64101           23.5          74.30  \n",
              "130058 -65.64101           23.0          73.40  \n",
              "130059 -65.64101           23.0          73.40  \n",
              "130060 -65.64101           24.0          75.20  \n",
              "\n",
              "[130061 rows x 11 columns]"
            ],
            "text/html": [
              "\n",
              "  <div id=\"df-66e7f294-024f-4071-bc5e-74996058c7d4\" class=\"colab-df-container\">\n",
              "    <div>\n",
              "<style scoped>\n",
              "    .dataframe tbody tr th:only-of-type {\n",
              "        vertical-align: middle;\n",
              "    }\n",
              "\n",
              "    .dataframe tbody tr th {\n",
              "        vertical-align: top;\n",
              "    }\n",
              "\n",
              "    .dataframe thead th {\n",
              "        text-align: right;\n",
              "    }\n",
              "</style>\n",
              "<table border=\"1\" class=\"dataframe\">\n",
              "  <thead>\n",
              "    <tr style=\"text-align: right;\">\n",
              "      <th></th>\n",
              "      <th>asset_type</th>\n",
              "      <th>asset_id</th>\n",
              "      <th>tag_id</th>\n",
              "      <th>Site</th>\n",
              "      <th>Zone</th>\n",
              "      <th>device_id</th>\n",
              "      <th>time_est</th>\n",
              "      <th>lat</th>\n",
              "      <th>lng</th>\n",
              "      <th>Temperature_C</th>\n",
              "      <th>Temperature_F</th>\n",
              "    </tr>\n",
              "  </thead>\n",
              "  <tbody>\n",
              "    <tr>\n",
              "      <th>0</th>\n",
              "      <td>tote</td>\n",
              "      <td>2</td>\n",
              "      <td>(01)00850027865010(21)0082T0219</td>\n",
              "      <td>DC 1</td>\n",
              "      <td>dock_doors_DC1</td>\n",
              "      <td>7F9A8353E973</td>\n",
              "      <td>2022-08-02 11:59:26.628</td>\n",
              "      <td>47.79158</td>\n",
              "      <td>-65.68902</td>\n",
              "      <td>23.0</td>\n",
              "      <td>73.40</td>\n",
              "    </tr>\n",
              "    <tr>\n",
              "      <th>1</th>\n",
              "      <td>tote</td>\n",
              "      <td>2</td>\n",
              "      <td>(01)00850027865010(21)0082T0219</td>\n",
              "      <td>DC 1</td>\n",
              "      <td>dock_doors_DC1</td>\n",
              "      <td>EC5B0499234F</td>\n",
              "      <td>2022-08-02 12:00:22.660</td>\n",
              "      <td>47.79158</td>\n",
              "      <td>-65.68902</td>\n",
              "      <td>23.0</td>\n",
              "      <td>73.40</td>\n",
              "    </tr>\n",
              "    <tr>\n",
              "      <th>2</th>\n",
              "      <td>tote</td>\n",
              "      <td>2</td>\n",
              "      <td>(01)00850027865010(21)0082T0219</td>\n",
              "      <td>DC 1</td>\n",
              "      <td>dock_doors_DC1</td>\n",
              "      <td>7F9A8353E973</td>\n",
              "      <td>2022-08-02 12:01:11.234</td>\n",
              "      <td>47.79158</td>\n",
              "      <td>-65.68902</td>\n",
              "      <td>23.0</td>\n",
              "      <td>73.40</td>\n",
              "    </tr>\n",
              "    <tr>\n",
              "      <th>3</th>\n",
              "      <td>tote</td>\n",
              "      <td>2</td>\n",
              "      <td>(01)00850027865010(21)0082T0219</td>\n",
              "      <td>DC 1</td>\n",
              "      <td>dock_doors_DC1</td>\n",
              "      <td>3D8B2BDB8673</td>\n",
              "      <td>2022-08-02 13:47:58.172</td>\n",
              "      <td>47.79158</td>\n",
              "      <td>-65.68902</td>\n",
              "      <td>23.5</td>\n",
              "      <td>74.30</td>\n",
              "    </tr>\n",
              "    <tr>\n",
              "      <th>4</th>\n",
              "      <td>tote</td>\n",
              "      <td>2</td>\n",
              "      <td>(01)00850027865010(21)0082T0670</td>\n",
              "      <td>DC 1</td>\n",
              "      <td>dock_doors_DC1</td>\n",
              "      <td>7F9A8353E973</td>\n",
              "      <td>2022-08-02 11:58:55.049</td>\n",
              "      <td>47.79158</td>\n",
              "      <td>-65.68902</td>\n",
              "      <td>23.0</td>\n",
              "      <td>73.40</td>\n",
              "    </tr>\n",
              "    <tr>\n",
              "      <th>...</th>\n",
              "      <td>...</td>\n",
              "      <td>...</td>\n",
              "      <td>...</td>\n",
              "      <td>...</td>\n",
              "      <td>...</td>\n",
              "      <td>...</td>\n",
              "      <td>...</td>\n",
              "      <td>...</td>\n",
              "      <td>...</td>\n",
              "      <td>...</td>\n",
              "      <td>...</td>\n",
              "    </tr>\n",
              "    <tr>\n",
              "      <th>130056</th>\n",
              "      <td>tote</td>\n",
              "      <td>205</td>\n",
              "      <td>(01)00850027865010(21)0082T1137</td>\n",
              "      <td>Store</td>\n",
              "      <td>store_front_Store</td>\n",
              "      <td>26AB1C9A2E41</td>\n",
              "      <td>2022-08-04 12:48:51.273</td>\n",
              "      <td>47.74923</td>\n",
              "      <td>-65.64101</td>\n",
              "      <td>23.1</td>\n",
              "      <td>73.58</td>\n",
              "    </tr>\n",
              "    <tr>\n",
              "      <th>130057</th>\n",
              "      <td>tote</td>\n",
              "      <td>205</td>\n",
              "      <td>(01)00850027865010(21)0082T1137</td>\n",
              "      <td>Store</td>\n",
              "      <td>store_front_Store</td>\n",
              "      <td>26AB1C9A2E41</td>\n",
              "      <td>2022-08-04 12:49:58.699</td>\n",
              "      <td>47.74923</td>\n",
              "      <td>-65.64101</td>\n",
              "      <td>23.5</td>\n",
              "      <td>74.30</td>\n",
              "    </tr>\n",
              "    <tr>\n",
              "      <th>130058</th>\n",
              "      <td>tote</td>\n",
              "      <td>205</td>\n",
              "      <td>(01)00850027865010(21)0082T1137</td>\n",
              "      <td>Store</td>\n",
              "      <td>store_front_Store</td>\n",
              "      <td>26AB1C9A2E41</td>\n",
              "      <td>2022-08-04 12:52:45.173</td>\n",
              "      <td>47.74923</td>\n",
              "      <td>-65.64101</td>\n",
              "      <td>23.0</td>\n",
              "      <td>73.40</td>\n",
              "    </tr>\n",
              "    <tr>\n",
              "      <th>130059</th>\n",
              "      <td>tote</td>\n",
              "      <td>205</td>\n",
              "      <td>(01)00850027865010(21)0082T1137</td>\n",
              "      <td>Store</td>\n",
              "      <td>store_front_Store</td>\n",
              "      <td>26AB1C9A2E41</td>\n",
              "      <td>2022-08-04 12:53:48.228</td>\n",
              "      <td>47.74923</td>\n",
              "      <td>-65.64101</td>\n",
              "      <td>23.0</td>\n",
              "      <td>73.40</td>\n",
              "    </tr>\n",
              "    <tr>\n",
              "      <th>130060</th>\n",
              "      <td>tote</td>\n",
              "      <td>205</td>\n",
              "      <td>(01)00850027865010(21)0082T1137</td>\n",
              "      <td>Store</td>\n",
              "      <td>store_front_Store</td>\n",
              "      <td>26AB1C9A2E41</td>\n",
              "      <td>2022-08-04 16:33:25.525</td>\n",
              "      <td>47.74923</td>\n",
              "      <td>-65.64101</td>\n",
              "      <td>24.0</td>\n",
              "      <td>75.20</td>\n",
              "    </tr>\n",
              "  </tbody>\n",
              "</table>\n",
              "<p>130061 rows × 11 columns</p>\n",
              "</div>\n",
              "    <div class=\"colab-df-buttons\">\n",
              "\n",
              "  <div class=\"colab-df-container\">\n",
              "    <button class=\"colab-df-convert\" onclick=\"convertToInteractive('df-66e7f294-024f-4071-bc5e-74996058c7d4')\"\n",
              "            title=\"Convert this dataframe to an interactive table.\"\n",
              "            style=\"display:none;\">\n",
              "\n",
              "  <svg xmlns=\"http://www.w3.org/2000/svg\" height=\"24px\" viewBox=\"0 -960 960 960\">\n",
              "    <path d=\"M120-120v-720h720v720H120Zm60-500h600v-160H180v160Zm220 220h160v-160H400v160Zm0 220h160v-160H400v160ZM180-400h160v-160H180v160Zm440 0h160v-160H620v160ZM180-180h160v-160H180v160Zm440 0h160v-160H620v160Z\"/>\n",
              "  </svg>\n",
              "    </button>\n",
              "\n",
              "  <style>\n",
              "    .colab-df-container {\n",
              "      display:flex;\n",
              "      gap: 12px;\n",
              "    }\n",
              "\n",
              "    .colab-df-convert {\n",
              "      background-color: #E8F0FE;\n",
              "      border: none;\n",
              "      border-radius: 50%;\n",
              "      cursor: pointer;\n",
              "      display: none;\n",
              "      fill: #1967D2;\n",
              "      height: 32px;\n",
              "      padding: 0 0 0 0;\n",
              "      width: 32px;\n",
              "    }\n",
              "\n",
              "    .colab-df-convert:hover {\n",
              "      background-color: #E2EBFA;\n",
              "      box-shadow: 0px 1px 2px rgba(60, 64, 67, 0.3), 0px 1px 3px 1px rgba(60, 64, 67, 0.15);\n",
              "      fill: #174EA6;\n",
              "    }\n",
              "\n",
              "    .colab-df-buttons div {\n",
              "      margin-bottom: 4px;\n",
              "    }\n",
              "\n",
              "    [theme=dark] .colab-df-convert {\n",
              "      background-color: #3B4455;\n",
              "      fill: #D2E3FC;\n",
              "    }\n",
              "\n",
              "    [theme=dark] .colab-df-convert:hover {\n",
              "      background-color: #434B5C;\n",
              "      box-shadow: 0px 1px 3px 1px rgba(0, 0, 0, 0.15);\n",
              "      filter: drop-shadow(0px 1px 2px rgba(0, 0, 0, 0.3));\n",
              "      fill: #FFFFFF;\n",
              "    }\n",
              "  </style>\n",
              "\n",
              "    <script>\n",
              "      const buttonEl =\n",
              "        document.querySelector('#df-66e7f294-024f-4071-bc5e-74996058c7d4 button.colab-df-convert');\n",
              "      buttonEl.style.display =\n",
              "        google.colab.kernel.accessAllowed ? 'block' : 'none';\n",
              "\n",
              "      async function convertToInteractive(key) {\n",
              "        const element = document.querySelector('#df-66e7f294-024f-4071-bc5e-74996058c7d4');\n",
              "        const dataTable =\n",
              "          await google.colab.kernel.invokeFunction('convertToInteractive',\n",
              "                                                    [key], {});\n",
              "        if (!dataTable) return;\n",
              "\n",
              "        const docLinkHtml = 'Like what you see? Visit the ' +\n",
              "          '<a target=\"_blank\" href=https://colab.research.google.com/notebooks/data_table.ipynb>data table notebook</a>'\n",
              "          + ' to learn more about interactive tables.';\n",
              "        element.innerHTML = '';\n",
              "        dataTable['output_type'] = 'display_data';\n",
              "        await google.colab.output.renderOutput(dataTable, element);\n",
              "        const docLink = document.createElement('div');\n",
              "        docLink.innerHTML = docLinkHtml;\n",
              "        element.appendChild(docLink);\n",
              "      }\n",
              "    </script>\n",
              "  </div>\n",
              "\n",
              "\n",
              "<div id=\"df-efe1a9f9-4ea4-4fcb-9180-a400e8f80680\">\n",
              "  <button class=\"colab-df-quickchart\" onclick=\"quickchart('df-efe1a9f9-4ea4-4fcb-9180-a400e8f80680')\"\n",
              "            title=\"Suggest charts\"\n",
              "            style=\"display:none;\">\n",
              "\n",
              "<svg xmlns=\"http://www.w3.org/2000/svg\" height=\"24px\"viewBox=\"0 0 24 24\"\n",
              "     width=\"24px\">\n",
              "    <g>\n",
              "        <path d=\"M19 3H5c-1.1 0-2 .9-2 2v14c0 1.1.9 2 2 2h14c1.1 0 2-.9 2-2V5c0-1.1-.9-2-2-2zM9 17H7v-7h2v7zm4 0h-2V7h2v10zm4 0h-2v-4h2v4z\"/>\n",
              "    </g>\n",
              "</svg>\n",
              "  </button>\n",
              "\n",
              "<style>\n",
              "  .colab-df-quickchart {\n",
              "      --bg-color: #E8F0FE;\n",
              "      --fill-color: #1967D2;\n",
              "      --hover-bg-color: #E2EBFA;\n",
              "      --hover-fill-color: #174EA6;\n",
              "      --disabled-fill-color: #AAA;\n",
              "      --disabled-bg-color: #DDD;\n",
              "  }\n",
              "\n",
              "  [theme=dark] .colab-df-quickchart {\n",
              "      --bg-color: #3B4455;\n",
              "      --fill-color: #D2E3FC;\n",
              "      --hover-bg-color: #434B5C;\n",
              "      --hover-fill-color: #FFFFFF;\n",
              "      --disabled-bg-color: #3B4455;\n",
              "      --disabled-fill-color: #666;\n",
              "  }\n",
              "\n",
              "  .colab-df-quickchart {\n",
              "    background-color: var(--bg-color);\n",
              "    border: none;\n",
              "    border-radius: 50%;\n",
              "    cursor: pointer;\n",
              "    display: none;\n",
              "    fill: var(--fill-color);\n",
              "    height: 32px;\n",
              "    padding: 0;\n",
              "    width: 32px;\n",
              "  }\n",
              "\n",
              "  .colab-df-quickchart:hover {\n",
              "    background-color: var(--hover-bg-color);\n",
              "    box-shadow: 0 1px 2px rgba(60, 64, 67, 0.3), 0 1px 3px 1px rgba(60, 64, 67, 0.15);\n",
              "    fill: var(--button-hover-fill-color);\n",
              "  }\n",
              "\n",
              "  .colab-df-quickchart-complete:disabled,\n",
              "  .colab-df-quickchart-complete:disabled:hover {\n",
              "    background-color: var(--disabled-bg-color);\n",
              "    fill: var(--disabled-fill-color);\n",
              "    box-shadow: none;\n",
              "  }\n",
              "\n",
              "  .colab-df-spinner {\n",
              "    border: 2px solid var(--fill-color);\n",
              "    border-color: transparent;\n",
              "    border-bottom-color: var(--fill-color);\n",
              "    animation:\n",
              "      spin 1s steps(1) infinite;\n",
              "  }\n",
              "\n",
              "  @keyframes spin {\n",
              "    0% {\n",
              "      border-color: transparent;\n",
              "      border-bottom-color: var(--fill-color);\n",
              "      border-left-color: var(--fill-color);\n",
              "    }\n",
              "    20% {\n",
              "      border-color: transparent;\n",
              "      border-left-color: var(--fill-color);\n",
              "      border-top-color: var(--fill-color);\n",
              "    }\n",
              "    30% {\n",
              "      border-color: transparent;\n",
              "      border-left-color: var(--fill-color);\n",
              "      border-top-color: var(--fill-color);\n",
              "      border-right-color: var(--fill-color);\n",
              "    }\n",
              "    40% {\n",
              "      border-color: transparent;\n",
              "      border-right-color: var(--fill-color);\n",
              "      border-top-color: var(--fill-color);\n",
              "    }\n",
              "    60% {\n",
              "      border-color: transparent;\n",
              "      border-right-color: var(--fill-color);\n",
              "    }\n",
              "    80% {\n",
              "      border-color: transparent;\n",
              "      border-right-color: var(--fill-color);\n",
              "      border-bottom-color: var(--fill-color);\n",
              "    }\n",
              "    90% {\n",
              "      border-color: transparent;\n",
              "      border-bottom-color: var(--fill-color);\n",
              "    }\n",
              "  }\n",
              "</style>\n",
              "\n",
              "  <script>\n",
              "    async function quickchart(key) {\n",
              "      const quickchartButtonEl =\n",
              "        document.querySelector('#' + key + ' button');\n",
              "      quickchartButtonEl.disabled = true;  // To prevent multiple clicks.\n",
              "      quickchartButtonEl.classList.add('colab-df-spinner');\n",
              "      try {\n",
              "        const charts = await google.colab.kernel.invokeFunction(\n",
              "            'suggestCharts', [key], {});\n",
              "      } catch (error) {\n",
              "        console.error('Error during call to suggestCharts:', error);\n",
              "      }\n",
              "      quickchartButtonEl.classList.remove('colab-df-spinner');\n",
              "      quickchartButtonEl.classList.add('colab-df-quickchart-complete');\n",
              "    }\n",
              "    (() => {\n",
              "      let quickchartButtonEl =\n",
              "        document.querySelector('#df-efe1a9f9-4ea4-4fcb-9180-a400e8f80680 button');\n",
              "      quickchartButtonEl.style.display =\n",
              "        google.colab.kernel.accessAllowed ? 'block' : 'none';\n",
              "    })();\n",
              "  </script>\n",
              "</div>\n",
              "\n",
              "  <div id=\"id_2f64c774-2d58-4171-ae46-9da985d132ce\">\n",
              "    <style>\n",
              "      .colab-df-generate {\n",
              "        background-color: #E8F0FE;\n",
              "        border: none;\n",
              "        border-radius: 50%;\n",
              "        cursor: pointer;\n",
              "        display: none;\n",
              "        fill: #1967D2;\n",
              "        height: 32px;\n",
              "        padding: 0 0 0 0;\n",
              "        width: 32px;\n",
              "      }\n",
              "\n",
              "      .colab-df-generate:hover {\n",
              "        background-color: #E2EBFA;\n",
              "        box-shadow: 0px 1px 2px rgba(60, 64, 67, 0.3), 0px 1px 3px 1px rgba(60, 64, 67, 0.15);\n",
              "        fill: #174EA6;\n",
              "      }\n",
              "\n",
              "      [theme=dark] .colab-df-generate {\n",
              "        background-color: #3B4455;\n",
              "        fill: #D2E3FC;\n",
              "      }\n",
              "\n",
              "      [theme=dark] .colab-df-generate:hover {\n",
              "        background-color: #434B5C;\n",
              "        box-shadow: 0px 1px 3px 1px rgba(0, 0, 0, 0.15);\n",
              "        filter: drop-shadow(0px 1px 2px rgba(0, 0, 0, 0.3));\n",
              "        fill: #FFFFFF;\n",
              "      }\n",
              "    </style>\n",
              "    <button class=\"colab-df-generate\" onclick=\"generateWithVariable('A')\"\n",
              "            title=\"Generate code using this dataframe.\"\n",
              "            style=\"display:none;\">\n",
              "\n",
              "  <svg xmlns=\"http://www.w3.org/2000/svg\" height=\"24px\"viewBox=\"0 0 24 24\"\n",
              "       width=\"24px\">\n",
              "    <path d=\"M7,19H8.4L18.45,9,17,7.55,7,17.6ZM5,21V16.75L18.45,3.32a2,2,0,0,1,2.83,0l1.4,1.43a1.91,1.91,0,0,1,.58,1.4,1.91,1.91,0,0,1-.58,1.4L9.25,21ZM18.45,9,17,7.55Zm-12,3A5.31,5.31,0,0,0,4.9,8.1,5.31,5.31,0,0,0,1,6.5,5.31,5.31,0,0,0,4.9,4.9,5.31,5.31,0,0,0,6.5,1,5.31,5.31,0,0,0,8.1,4.9,5.31,5.31,0,0,0,12,6.5,5.46,5.46,0,0,0,6.5,12Z\"/>\n",
              "  </svg>\n",
              "    </button>\n",
              "    <script>\n",
              "      (() => {\n",
              "      const buttonEl =\n",
              "        document.querySelector('#id_2f64c774-2d58-4171-ae46-9da985d132ce button.colab-df-generate');\n",
              "      buttonEl.style.display =\n",
              "        google.colab.kernel.accessAllowed ? 'block' : 'none';\n",
              "\n",
              "      buttonEl.onclick = () => {\n",
              "        google.colab.notebook.generateWithVariable('A');\n",
              "      }\n",
              "      })();\n",
              "    </script>\n",
              "  </div>\n",
              "\n",
              "    </div>\n",
              "  </div>\n"
            ],
            "application/vnd.google.colaboratory.intrinsic+json": {
              "type": "dataframe",
              "variable_name": "A"
            }
          },
          "metadata": {},
          "execution_count": 23
        }
      ]
    },
    {
      "cell_type": "markdown",
      "metadata": {
        "id": "ilure2qpw4lT"
      },
      "source": [
        "### Dataset Overview\n",
        "\n",
        "* Site:  A large space that could contain multiple readers. Ex: DC 1.\n",
        "* Zone:  Point of interest. These represent areas in which repeaters are installed. These can be thought of as sub-zones.  Ex: Dock Doors.\n",
        "* Asset ID: The unique ID of the asset.\n",
        "* Asset Type: The type of thing that is detected (ie tote).\n",
        "* Device ID: The unique gateway reader ID that detected the device in the zone (there can be multiple in one zone).\n",
        "* Time est: The time in EST.\n",
        "* Lon: Longituge\n",
        "* Lat: Latitude\n",
        "* Temperature_C / F: Temperature in Celsius, Fahrentheit"
      ]
    },
    {
      "cell_type": "markdown",
      "metadata": {
        "id": "0PcG1lJdwopq"
      },
      "source": [
        "## PART 1: Data Overview"
      ]
    },
    {
      "cell_type": "code",
      "source": [
        "A.columns"
      ],
      "metadata": {
        "colab": {
          "base_uri": "https://localhost:8080/"
        },
        "id": "YjlOAd-opfMD",
        "outputId": "5de4f13e-fd1a-4f33-b11b-167b286b2ce3"
      },
      "execution_count": 4,
      "outputs": [
        {
          "output_type": "execute_result",
          "data": {
            "text/plain": [
              "Index(['asset_type', 'asset_id', 'tag_id', 'Site', 'Zone', 'device_id',\n",
              "       'time_est', 'lat', 'lng', 'Temperature_C', 'Temperature_F'],\n",
              "      dtype='object')"
            ]
          },
          "metadata": {},
          "execution_count": 4
        }
      ]
    },
    {
      "cell_type": "markdown",
      "metadata": {
        "id": "tLLUIhxZ0wvF"
      },
      "source": [
        "### Question 1:\n",
        "\n",
        "* How many unique cases were we tracking throughout this pilot. (1 pt)\n",
        "* What are the unique zones we could see (1 pt)\n",
        "* How many POI's are in each Zone. (2 pts)\n"
      ]
    },
    {
      "cell_type": "code",
      "source": [
        "print('1. Casos únicos rastreados:', len(A.asset_id.unique()))"
      ],
      "metadata": {
        "colab": {
          "base_uri": "https://localhost:8080/"
        },
        "id": "SiTTuKUwSOyG",
        "outputId": "3aa9cfda-8cb8-46d8-8f1d-8d355d57a0cf"
      },
      "execution_count": 5,
      "outputs": [
        {
          "output_type": "stream",
          "name": "stdout",
          "text": [
            "1. Casos únicos rastreados: 18\n"
          ]
        }
      ]
    },
    {
      "cell_type": "code",
      "source": [
        "print('Zonas únicas:')\n",
        "for i in A['Site'].unique(): print(i)"
      ],
      "metadata": {
        "colab": {
          "base_uri": "https://localhost:8080/"
        },
        "id": "AV7US8_mrLZ2",
        "outputId": "0b9fdb96-3c62-4edb-a602-b194405dbedb"
      },
      "execution_count": 6,
      "outputs": [
        {
          "output_type": "stream",
          "name": "stdout",
          "text": [
            "Zonas únicas:\n",
            "DC 1\n",
            "DC 2\n",
            "Transit\n",
            "Store\n"
          ]
        }
      ]
    },
    {
      "cell_type": "code",
      "execution_count": 7,
      "metadata": {
        "id": "PDMC6O4h0uqD",
        "colab": {
          "base_uri": "https://localhost:8080/"
        },
        "outputId": "89548377-eaea-4a9d-995e-45f23d01ba8c"
      },
      "outputs": [
        {
          "output_type": "stream",
          "name": "stdout",
          "text": [
            "POI's: 38 \n",
            " ZONAS ÚNICAS:\n",
            "dock_doors_DC1\n",
            "dock_doors_DC2\n",
            "Forklift3_DC1\n",
            "pallet_assembly_DC1\n",
            "PhoneKit1Bridge\n",
            "PhoneKit2Bridge\n",
            "PhoneKit2GW\n",
            "point_of_sale_Store\n",
            "receiving_Store\n",
            "staging_DC1\n",
            "staging_DC2\n",
            "store_back_Store\n",
            "store_front_Store\n",
            "Forklift1_DC1\n",
            "PhoneKit1GW\n"
          ]
        }
      ],
      "source": [
        "a1=A['device_id'].nunique()\n",
        "print('POI\\'s:',a1,'\\n','ZONAS ÚNICAS:')\n",
        "\n",
        "for i in A['Zone'].unique(): print(i)"
      ]
    },
    {
      "cell_type": "markdown",
      "metadata": {
        "id": "5SaHgmjN1sfO"
      },
      "source": [
        "### Question 2:\n",
        "\n",
        "* What is the temperature range we see?  (1pt)\n",
        "* Where is temperature the highest and lowest (1pt)"
      ]
    },
    {
      "cell_type": "code",
      "execution_count": 8,
      "metadata": {
        "id": "Yv6mfo8K1_uD",
        "colab": {
          "base_uri": "https://localhost:8080/"
        },
        "outputId": "781fcfa8-43e1-487f-c640-58f4625c3834"
      },
      "outputs": [
        {
          "output_type": "stream",
          "name": "stdout",
          "text": [
            "Rango de temperatura en Celsius= 25.0\n",
            "Máxima temperatura= 44.0 \n",
            "Mínima temperatura= 19.0\n"
          ]
        }
      ],
      "source": [
        "mint, maxt=A.Temperature_C.agg(['min','max'])\n",
        "print('Rango de temperatura en Celsius=',maxt-mint)\n",
        "print('Máxima temperatura=', maxt, '\\nMínima temperatura=',mint)"
      ]
    },
    {
      "cell_type": "markdown",
      "metadata": {
        "id": "83ZytoZ02Oih"
      },
      "source": [
        "## Part 2: The Journey of a Case"
      ]
    },
    {
      "cell_type": "markdown",
      "metadata": {
        "id": "LT32Svy42BR8"
      },
      "source": [
        "### Question 3:\n",
        "\n",
        "* Create a visualization that shows where a case was at over time at the zone or POI level. Imagine that this would be included in your presentation to the customer. (Non techical audience) (3 pts)"
      ]
    },
    {
      "cell_type": "code",
      "source": [
        "import matplotlib.pyplot as plt\n",
        "import numpy as np\n",
        "import plotly.express as px"
      ],
      "metadata": {
        "id": "tauB3XKnyw1u"
      },
      "execution_count": 9,
      "outputs": []
    },
    {
      "cell_type": "code",
      "source": [
        "#Caja numero n\n",
        "n=2"
      ],
      "metadata": {
        "id": "0BPp-1CSZCOq"
      },
      "execution_count": 10,
      "outputs": []
    },
    {
      "cell_type": "code",
      "source": [
        "A1=A[A.asset_id==n]\n",
        "D1=pd.DataFrame(A1.groupby(['Zone']).time_est.mean())\n",
        "D2=D1.reset_index()\n",
        "D2.columns"
      ],
      "metadata": {
        "colab": {
          "base_uri": "https://localhost:8080/"
        },
        "id": "ciWWlEh8gJAq",
        "outputId": "54de536e-ae85-4516-f2b0-8d226c887e05"
      },
      "execution_count": 11,
      "outputs": [
        {
          "output_type": "execute_result",
          "data": {
            "text/plain": [
              "Index(['Zone', 'time_est'], dtype='object')"
            ]
          },
          "metadata": {},
          "execution_count": 11
        }
      ]
    },
    {
      "cell_type": "code",
      "source": [
        "fig=px.bar(D2,x='Zone',y='time_est', text='time_est')\n",
        "fig"
      ],
      "metadata": {
        "colab": {
          "base_uri": "https://localhost:8080/",
          "height": 542
        },
        "id": "0M-ILfsEb0mp",
        "outputId": "cdca5e0e-8a76-4999-c7ff-fe2b4d355a43"
      },
      "execution_count": 12,
      "outputs": [
        {
          "output_type": "display_data",
          "data": {
            "text/html": [
              "<html>\n",
              "<head><meta charset=\"utf-8\" /></head>\n",
              "<body>\n",
              "    <div>            <script src=\"https://cdnjs.cloudflare.com/ajax/libs/mathjax/2.7.5/MathJax.js?config=TeX-AMS-MML_SVG\"></script><script type=\"text/javascript\">if (window.MathJax && window.MathJax.Hub && window.MathJax.Hub.Config) {window.MathJax.Hub.Config({SVG: {font: \"STIX-Web\"}});}</script>                <script type=\"text/javascript\">window.PlotlyConfig = {MathJaxConfig: 'local'};</script>\n",
              "        <script charset=\"utf-8\" src=\"https://cdn.plot.ly/plotly-2.24.1.min.js\"></script>                <div id=\"a8882c83-0961-4c11-a32a-0aaa70cecdd1\" class=\"plotly-graph-div\" style=\"height:525px; width:100%;\"></div>            <script type=\"text/javascript\">                                    window.PLOTLYENV=window.PLOTLYENV || {};                                    if (document.getElementById(\"a8882c83-0961-4c11-a32a-0aaa70cecdd1\")) {                    Plotly.newPlot(                        \"a8882c83-0961-4c11-a32a-0aaa70cecdd1\",                        [{\"alignmentgroup\":\"True\",\"hovertemplate\":\"Zone=%{x}\\u003cbr\\u003etime_est=%{text}\\u003cextra\\u003e\\u003c\\u002fextra\\u003e\",\"legendgroup\":\"\",\"marker\":{\"color\":\"#636efa\",\"pattern\":{\"shape\":\"\"}},\"name\":\"\",\"offsetgroup\":\"\",\"orientation\":\"v\",\"showlegend\":false,\"text\":[\"2022-08-02T12:55:21.525222\",\"2022-08-03T03:38:27.697780\",\"2022-08-03T01:13:58.139488\",\"2022-08-03T02:54:15.239076\",\"2022-08-02T12:21:34.748599\",\"2022-08-03T12:58:39.703750\",\"2022-08-02T11:36:39.967828\",\"2022-08-05T03:17:10.581499\",\"2022-08-05T03:45:58.671663\",\"2022-08-02T12:50:10.991652\",\"2022-08-04T03:39:20.359000\",\"2022-08-04T22:15:25.677139\",\"2022-08-04T17:23:55.054116\"],\"textposition\":\"auto\",\"x\":[\"Forklift3_DC1\",\"PhoneKit1Bridge\",\"PhoneKit2Bridge\",\"PhoneKit2GW\",\"dock_doors_DC1\",\"dock_doors_DC2\",\"pallet_assembly_DC1\",\"point_of_sale_Store\",\"receiving_Store\",\"staging_DC1\",\"staging_DC2\",\"store_back_Store\",\"store_front_Store\"],\"xaxis\":\"x\",\"y\":[\"2022-08-02T12:55:21.525222\",\"2022-08-03T03:38:27.697780\",\"2022-08-03T01:13:58.139488\",\"2022-08-03T02:54:15.239076\",\"2022-08-02T12:21:34.748599\",\"2022-08-03T12:58:39.703750\",\"2022-08-02T11:36:39.967828\",\"2022-08-05T03:17:10.581499\",\"2022-08-05T03:45:58.671663\",\"2022-08-02T12:50:10.991652\",\"2022-08-04T03:39:20.359000\",\"2022-08-04T22:15:25.677139\",\"2022-08-04T17:23:55.054116\"],\"yaxis\":\"y\",\"type\":\"bar\"}],                        {\"template\":{\"data\":{\"histogram2dcontour\":[{\"type\":\"histogram2dcontour\",\"colorbar\":{\"outlinewidth\":0,\"ticks\":\"\"},\"colorscale\":[[0.0,\"#0d0887\"],[0.1111111111111111,\"#46039f\"],[0.2222222222222222,\"#7201a8\"],[0.3333333333333333,\"#9c179e\"],[0.4444444444444444,\"#bd3786\"],[0.5555555555555556,\"#d8576b\"],[0.6666666666666666,\"#ed7953\"],[0.7777777777777778,\"#fb9f3a\"],[0.8888888888888888,\"#fdca26\"],[1.0,\"#f0f921\"]]}],\"choropleth\":[{\"type\":\"choropleth\",\"colorbar\":{\"outlinewidth\":0,\"ticks\":\"\"}}],\"histogram2d\":[{\"type\":\"histogram2d\",\"colorbar\":{\"outlinewidth\":0,\"ticks\":\"\"},\"colorscale\":[[0.0,\"#0d0887\"],[0.1111111111111111,\"#46039f\"],[0.2222222222222222,\"#7201a8\"],[0.3333333333333333,\"#9c179e\"],[0.4444444444444444,\"#bd3786\"],[0.5555555555555556,\"#d8576b\"],[0.6666666666666666,\"#ed7953\"],[0.7777777777777778,\"#fb9f3a\"],[0.8888888888888888,\"#fdca26\"],[1.0,\"#f0f921\"]]}],\"heatmap\":[{\"type\":\"heatmap\",\"colorbar\":{\"outlinewidth\":0,\"ticks\":\"\"},\"colorscale\":[[0.0,\"#0d0887\"],[0.1111111111111111,\"#46039f\"],[0.2222222222222222,\"#7201a8\"],[0.3333333333333333,\"#9c179e\"],[0.4444444444444444,\"#bd3786\"],[0.5555555555555556,\"#d8576b\"],[0.6666666666666666,\"#ed7953\"],[0.7777777777777778,\"#fb9f3a\"],[0.8888888888888888,\"#fdca26\"],[1.0,\"#f0f921\"]]}],\"heatmapgl\":[{\"type\":\"heatmapgl\",\"colorbar\":{\"outlinewidth\":0,\"ticks\":\"\"},\"colorscale\":[[0.0,\"#0d0887\"],[0.1111111111111111,\"#46039f\"],[0.2222222222222222,\"#7201a8\"],[0.3333333333333333,\"#9c179e\"],[0.4444444444444444,\"#bd3786\"],[0.5555555555555556,\"#d8576b\"],[0.6666666666666666,\"#ed7953\"],[0.7777777777777778,\"#fb9f3a\"],[0.8888888888888888,\"#fdca26\"],[1.0,\"#f0f921\"]]}],\"contourcarpet\":[{\"type\":\"contourcarpet\",\"colorbar\":{\"outlinewidth\":0,\"ticks\":\"\"}}],\"contour\":[{\"type\":\"contour\",\"colorbar\":{\"outlinewidth\":0,\"ticks\":\"\"},\"colorscale\":[[0.0,\"#0d0887\"],[0.1111111111111111,\"#46039f\"],[0.2222222222222222,\"#7201a8\"],[0.3333333333333333,\"#9c179e\"],[0.4444444444444444,\"#bd3786\"],[0.5555555555555556,\"#d8576b\"],[0.6666666666666666,\"#ed7953\"],[0.7777777777777778,\"#fb9f3a\"],[0.8888888888888888,\"#fdca26\"],[1.0,\"#f0f921\"]]}],\"surface\":[{\"type\":\"surface\",\"colorbar\":{\"outlinewidth\":0,\"ticks\":\"\"},\"colorscale\":[[0.0,\"#0d0887\"],[0.1111111111111111,\"#46039f\"],[0.2222222222222222,\"#7201a8\"],[0.3333333333333333,\"#9c179e\"],[0.4444444444444444,\"#bd3786\"],[0.5555555555555556,\"#d8576b\"],[0.6666666666666666,\"#ed7953\"],[0.7777777777777778,\"#fb9f3a\"],[0.8888888888888888,\"#fdca26\"],[1.0,\"#f0f921\"]]}],\"mesh3d\":[{\"type\":\"mesh3d\",\"colorbar\":{\"outlinewidth\":0,\"ticks\":\"\"}}],\"scatter\":[{\"fillpattern\":{\"fillmode\":\"overlay\",\"size\":10,\"solidity\":0.2},\"type\":\"scatter\"}],\"parcoords\":[{\"type\":\"parcoords\",\"line\":{\"colorbar\":{\"outlinewidth\":0,\"ticks\":\"\"}}}],\"scatterpolargl\":[{\"type\":\"scatterpolargl\",\"marker\":{\"colorbar\":{\"outlinewidth\":0,\"ticks\":\"\"}}}],\"bar\":[{\"error_x\":{\"color\":\"#2a3f5f\"},\"error_y\":{\"color\":\"#2a3f5f\"},\"marker\":{\"line\":{\"color\":\"#E5ECF6\",\"width\":0.5},\"pattern\":{\"fillmode\":\"overlay\",\"size\":10,\"solidity\":0.2}},\"type\":\"bar\"}],\"scattergeo\":[{\"type\":\"scattergeo\",\"marker\":{\"colorbar\":{\"outlinewidth\":0,\"ticks\":\"\"}}}],\"scatterpolar\":[{\"type\":\"scatterpolar\",\"marker\":{\"colorbar\":{\"outlinewidth\":0,\"ticks\":\"\"}}}],\"histogram\":[{\"marker\":{\"pattern\":{\"fillmode\":\"overlay\",\"size\":10,\"solidity\":0.2}},\"type\":\"histogram\"}],\"scattergl\":[{\"type\":\"scattergl\",\"marker\":{\"colorbar\":{\"outlinewidth\":0,\"ticks\":\"\"}}}],\"scatter3d\":[{\"type\":\"scatter3d\",\"line\":{\"colorbar\":{\"outlinewidth\":0,\"ticks\":\"\"}},\"marker\":{\"colorbar\":{\"outlinewidth\":0,\"ticks\":\"\"}}}],\"scattermapbox\":[{\"type\":\"scattermapbox\",\"marker\":{\"colorbar\":{\"outlinewidth\":0,\"ticks\":\"\"}}}],\"scatterternary\":[{\"type\":\"scatterternary\",\"marker\":{\"colorbar\":{\"outlinewidth\":0,\"ticks\":\"\"}}}],\"scattercarpet\":[{\"type\":\"scattercarpet\",\"marker\":{\"colorbar\":{\"outlinewidth\":0,\"ticks\":\"\"}}}],\"carpet\":[{\"aaxis\":{\"endlinecolor\":\"#2a3f5f\",\"gridcolor\":\"white\",\"linecolor\":\"white\",\"minorgridcolor\":\"white\",\"startlinecolor\":\"#2a3f5f\"},\"baxis\":{\"endlinecolor\":\"#2a3f5f\",\"gridcolor\":\"white\",\"linecolor\":\"white\",\"minorgridcolor\":\"white\",\"startlinecolor\":\"#2a3f5f\"},\"type\":\"carpet\"}],\"table\":[{\"cells\":{\"fill\":{\"color\":\"#EBF0F8\"},\"line\":{\"color\":\"white\"}},\"header\":{\"fill\":{\"color\":\"#C8D4E3\"},\"line\":{\"color\":\"white\"}},\"type\":\"table\"}],\"barpolar\":[{\"marker\":{\"line\":{\"color\":\"#E5ECF6\",\"width\":0.5},\"pattern\":{\"fillmode\":\"overlay\",\"size\":10,\"solidity\":0.2}},\"type\":\"barpolar\"}],\"pie\":[{\"automargin\":true,\"type\":\"pie\"}]},\"layout\":{\"autotypenumbers\":\"strict\",\"colorway\":[\"#636efa\",\"#EF553B\",\"#00cc96\",\"#ab63fa\",\"#FFA15A\",\"#19d3f3\",\"#FF6692\",\"#B6E880\",\"#FF97FF\",\"#FECB52\"],\"font\":{\"color\":\"#2a3f5f\"},\"hovermode\":\"closest\",\"hoverlabel\":{\"align\":\"left\"},\"paper_bgcolor\":\"white\",\"plot_bgcolor\":\"#E5ECF6\",\"polar\":{\"bgcolor\":\"#E5ECF6\",\"angularaxis\":{\"gridcolor\":\"white\",\"linecolor\":\"white\",\"ticks\":\"\"},\"radialaxis\":{\"gridcolor\":\"white\",\"linecolor\":\"white\",\"ticks\":\"\"}},\"ternary\":{\"bgcolor\":\"#E5ECF6\",\"aaxis\":{\"gridcolor\":\"white\",\"linecolor\":\"white\",\"ticks\":\"\"},\"baxis\":{\"gridcolor\":\"white\",\"linecolor\":\"white\",\"ticks\":\"\"},\"caxis\":{\"gridcolor\":\"white\",\"linecolor\":\"white\",\"ticks\":\"\"}},\"coloraxis\":{\"colorbar\":{\"outlinewidth\":0,\"ticks\":\"\"}},\"colorscale\":{\"sequential\":[[0.0,\"#0d0887\"],[0.1111111111111111,\"#46039f\"],[0.2222222222222222,\"#7201a8\"],[0.3333333333333333,\"#9c179e\"],[0.4444444444444444,\"#bd3786\"],[0.5555555555555556,\"#d8576b\"],[0.6666666666666666,\"#ed7953\"],[0.7777777777777778,\"#fb9f3a\"],[0.8888888888888888,\"#fdca26\"],[1.0,\"#f0f921\"]],\"sequentialminus\":[[0.0,\"#0d0887\"],[0.1111111111111111,\"#46039f\"],[0.2222222222222222,\"#7201a8\"],[0.3333333333333333,\"#9c179e\"],[0.4444444444444444,\"#bd3786\"],[0.5555555555555556,\"#d8576b\"],[0.6666666666666666,\"#ed7953\"],[0.7777777777777778,\"#fb9f3a\"],[0.8888888888888888,\"#fdca26\"],[1.0,\"#f0f921\"]],\"diverging\":[[0,\"#8e0152\"],[0.1,\"#c51b7d\"],[0.2,\"#de77ae\"],[0.3,\"#f1b6da\"],[0.4,\"#fde0ef\"],[0.5,\"#f7f7f7\"],[0.6,\"#e6f5d0\"],[0.7,\"#b8e186\"],[0.8,\"#7fbc41\"],[0.9,\"#4d9221\"],[1,\"#276419\"]]},\"xaxis\":{\"gridcolor\":\"white\",\"linecolor\":\"white\",\"ticks\":\"\",\"title\":{\"standoff\":15},\"zerolinecolor\":\"white\",\"automargin\":true,\"zerolinewidth\":2},\"yaxis\":{\"gridcolor\":\"white\",\"linecolor\":\"white\",\"ticks\":\"\",\"title\":{\"standoff\":15},\"zerolinecolor\":\"white\",\"automargin\":true,\"zerolinewidth\":2},\"scene\":{\"xaxis\":{\"backgroundcolor\":\"#E5ECF6\",\"gridcolor\":\"white\",\"linecolor\":\"white\",\"showbackground\":true,\"ticks\":\"\",\"zerolinecolor\":\"white\",\"gridwidth\":2},\"yaxis\":{\"backgroundcolor\":\"#E5ECF6\",\"gridcolor\":\"white\",\"linecolor\":\"white\",\"showbackground\":true,\"ticks\":\"\",\"zerolinecolor\":\"white\",\"gridwidth\":2},\"zaxis\":{\"backgroundcolor\":\"#E5ECF6\",\"gridcolor\":\"white\",\"linecolor\":\"white\",\"showbackground\":true,\"ticks\":\"\",\"zerolinecolor\":\"white\",\"gridwidth\":2}},\"shapedefaults\":{\"line\":{\"color\":\"#2a3f5f\"}},\"annotationdefaults\":{\"arrowcolor\":\"#2a3f5f\",\"arrowhead\":0,\"arrowwidth\":1},\"geo\":{\"bgcolor\":\"white\",\"landcolor\":\"#E5ECF6\",\"subunitcolor\":\"white\",\"showland\":true,\"showlakes\":true,\"lakecolor\":\"white\"},\"title\":{\"x\":0.05},\"mapbox\":{\"style\":\"light\"}}},\"xaxis\":{\"anchor\":\"y\",\"domain\":[0.0,1.0],\"title\":{\"text\":\"Zone\"}},\"yaxis\":{\"anchor\":\"x\",\"domain\":[0.0,1.0],\"title\":{\"text\":\"time_est\"}},\"legend\":{\"tracegroupgap\":0},\"margin\":{\"t\":60},\"barmode\":\"relative\"},                        {\"responsive\": true}                    ).then(function(){\n",
              "                            \n",
              "var gd = document.getElementById('a8882c83-0961-4c11-a32a-0aaa70cecdd1');\n",
              "var x = new MutationObserver(function (mutations, observer) {{\n",
              "        var display = window.getComputedStyle(gd).display;\n",
              "        if (!display || display === 'none') {{\n",
              "            console.log([gd, 'removed!']);\n",
              "            Plotly.purge(gd);\n",
              "            observer.disconnect();\n",
              "        }}\n",
              "}});\n",
              "\n",
              "// Listen for the removal of the full notebook cells\n",
              "var notebookContainer = gd.closest('#notebook-container');\n",
              "if (notebookContainer) {{\n",
              "    x.observe(notebookContainer, {childList: true});\n",
              "}}\n",
              "\n",
              "// Listen for the clearing of the current output cell\n",
              "var outputEl = gd.closest('.output');\n",
              "if (outputEl) {{\n",
              "    x.observe(outputEl, {childList: true});\n",
              "}}\n",
              "\n",
              "                        })                };                            </script>        </div>\n",
              "</body>\n",
              "</html>"
            ]
          },
          "metadata": {}
        }
      ]
    },
    {
      "cell_type": "markdown",
      "metadata": {
        "id": "n7nBbEZ42vvP"
      },
      "source": [
        "### Question 4:\n",
        "\n",
        "* Visualize how the temperatue changes over time along its journey.  Imagine that this would be included in your presentation to the customer. (Non techical audience) (4 pts)\n",
        "\n"
      ]
    },
    {
      "cell_type": "code",
      "execution_count": 13,
      "metadata": {
        "id": "rZ6EgZDa3YCv"
      },
      "outputs": [],
      "source": [
        "A1=A[A.asset_id==n]\n",
        "D1=pd.DataFrame(A1.groupby(['Zone']).Temperature_C.mean())\n",
        "D2=D1.reset_index()"
      ]
    },
    {
      "cell_type": "code",
      "source": [
        "fig=px.bar(D2,x='Zone',y='Temperature_C', text='Temperature_C')\n",
        "fig"
      ],
      "metadata": {
        "colab": {
          "base_uri": "https://localhost:8080/",
          "height": 542
        },
        "id": "Io_I-fOM1Uh1",
        "outputId": "756bd75a-3979-4d3c-8c0e-9f6fe04db3c3"
      },
      "execution_count": 14,
      "outputs": [
        {
          "output_type": "display_data",
          "data": {
            "text/html": [
              "<html>\n",
              "<head><meta charset=\"utf-8\" /></head>\n",
              "<body>\n",
              "    <div>            <script src=\"https://cdnjs.cloudflare.com/ajax/libs/mathjax/2.7.5/MathJax.js?config=TeX-AMS-MML_SVG\"></script><script type=\"text/javascript\">if (window.MathJax && window.MathJax.Hub && window.MathJax.Hub.Config) {window.MathJax.Hub.Config({SVG: {font: \"STIX-Web\"}});}</script>                <script type=\"text/javascript\">window.PlotlyConfig = {MathJaxConfig: 'local'};</script>\n",
              "        <script charset=\"utf-8\" src=\"https://cdn.plot.ly/plotly-2.24.1.min.js\"></script>                <div id=\"52bd7d82-6728-47f0-bf81-3197d69e0078\" class=\"plotly-graph-div\" style=\"height:525px; width:100%;\"></div>            <script type=\"text/javascript\">                                    window.PLOTLYENV=window.PLOTLYENV || {};                                    if (document.getElementById(\"52bd7d82-6728-47f0-bf81-3197d69e0078\")) {                    Plotly.newPlot(                        \"52bd7d82-6728-47f0-bf81-3197d69e0078\",                        [{\"alignmentgroup\":\"True\",\"hovertemplate\":\"Zone=%{x}\\u003cbr\\u003eTemperature_C=%{text}\\u003cextra\\u003e\\u003c\\u002fextra\\u003e\",\"legendgroup\":\"\",\"marker\":{\"color\":\"#636efa\",\"pattern\":{\"shape\":\"\"}},\"name\":\"\",\"offsetgroup\":\"\",\"orientation\":\"v\",\"showlegend\":false,\"text\":[23.444444444444443,25.0,25.34090909090909,25.346153846153847,23.1,24.9375,22.72265625,22.583333333333332,26.209462197973497,23.29861111111111,25.0,23.197802726543706,23.764593023255816],\"textposition\":\"auto\",\"x\":[\"Forklift3_DC1\",\"PhoneKit1Bridge\",\"PhoneKit2Bridge\",\"PhoneKit2GW\",\"dock_doors_DC1\",\"dock_doors_DC2\",\"pallet_assembly_DC1\",\"point_of_sale_Store\",\"receiving_Store\",\"staging_DC1\",\"staging_DC2\",\"store_back_Store\",\"store_front_Store\"],\"xaxis\":\"x\",\"y\":[23.444444444444443,25.0,25.34090909090909,25.346153846153847,23.1,24.9375,22.72265625,22.583333333333332,26.209462197973497,23.29861111111111,25.0,23.197802726543706,23.764593023255816],\"yaxis\":\"y\",\"type\":\"bar\"}],                        {\"template\":{\"data\":{\"histogram2dcontour\":[{\"type\":\"histogram2dcontour\",\"colorbar\":{\"outlinewidth\":0,\"ticks\":\"\"},\"colorscale\":[[0.0,\"#0d0887\"],[0.1111111111111111,\"#46039f\"],[0.2222222222222222,\"#7201a8\"],[0.3333333333333333,\"#9c179e\"],[0.4444444444444444,\"#bd3786\"],[0.5555555555555556,\"#d8576b\"],[0.6666666666666666,\"#ed7953\"],[0.7777777777777778,\"#fb9f3a\"],[0.8888888888888888,\"#fdca26\"],[1.0,\"#f0f921\"]]}],\"choropleth\":[{\"type\":\"choropleth\",\"colorbar\":{\"outlinewidth\":0,\"ticks\":\"\"}}],\"histogram2d\":[{\"type\":\"histogram2d\",\"colorbar\":{\"outlinewidth\":0,\"ticks\":\"\"},\"colorscale\":[[0.0,\"#0d0887\"],[0.1111111111111111,\"#46039f\"],[0.2222222222222222,\"#7201a8\"],[0.3333333333333333,\"#9c179e\"],[0.4444444444444444,\"#bd3786\"],[0.5555555555555556,\"#d8576b\"],[0.6666666666666666,\"#ed7953\"],[0.7777777777777778,\"#fb9f3a\"],[0.8888888888888888,\"#fdca26\"],[1.0,\"#f0f921\"]]}],\"heatmap\":[{\"type\":\"heatmap\",\"colorbar\":{\"outlinewidth\":0,\"ticks\":\"\"},\"colorscale\":[[0.0,\"#0d0887\"],[0.1111111111111111,\"#46039f\"],[0.2222222222222222,\"#7201a8\"],[0.3333333333333333,\"#9c179e\"],[0.4444444444444444,\"#bd3786\"],[0.5555555555555556,\"#d8576b\"],[0.6666666666666666,\"#ed7953\"],[0.7777777777777778,\"#fb9f3a\"],[0.8888888888888888,\"#fdca26\"],[1.0,\"#f0f921\"]]}],\"heatmapgl\":[{\"type\":\"heatmapgl\",\"colorbar\":{\"outlinewidth\":0,\"ticks\":\"\"},\"colorscale\":[[0.0,\"#0d0887\"],[0.1111111111111111,\"#46039f\"],[0.2222222222222222,\"#7201a8\"],[0.3333333333333333,\"#9c179e\"],[0.4444444444444444,\"#bd3786\"],[0.5555555555555556,\"#d8576b\"],[0.6666666666666666,\"#ed7953\"],[0.7777777777777778,\"#fb9f3a\"],[0.8888888888888888,\"#fdca26\"],[1.0,\"#f0f921\"]]}],\"contourcarpet\":[{\"type\":\"contourcarpet\",\"colorbar\":{\"outlinewidth\":0,\"ticks\":\"\"}}],\"contour\":[{\"type\":\"contour\",\"colorbar\":{\"outlinewidth\":0,\"ticks\":\"\"},\"colorscale\":[[0.0,\"#0d0887\"],[0.1111111111111111,\"#46039f\"],[0.2222222222222222,\"#7201a8\"],[0.3333333333333333,\"#9c179e\"],[0.4444444444444444,\"#bd3786\"],[0.5555555555555556,\"#d8576b\"],[0.6666666666666666,\"#ed7953\"],[0.7777777777777778,\"#fb9f3a\"],[0.8888888888888888,\"#fdca26\"],[1.0,\"#f0f921\"]]}],\"surface\":[{\"type\":\"surface\",\"colorbar\":{\"outlinewidth\":0,\"ticks\":\"\"},\"colorscale\":[[0.0,\"#0d0887\"],[0.1111111111111111,\"#46039f\"],[0.2222222222222222,\"#7201a8\"],[0.3333333333333333,\"#9c179e\"],[0.4444444444444444,\"#bd3786\"],[0.5555555555555556,\"#d8576b\"],[0.6666666666666666,\"#ed7953\"],[0.7777777777777778,\"#fb9f3a\"],[0.8888888888888888,\"#fdca26\"],[1.0,\"#f0f921\"]]}],\"mesh3d\":[{\"type\":\"mesh3d\",\"colorbar\":{\"outlinewidth\":0,\"ticks\":\"\"}}],\"scatter\":[{\"fillpattern\":{\"fillmode\":\"overlay\",\"size\":10,\"solidity\":0.2},\"type\":\"scatter\"}],\"parcoords\":[{\"type\":\"parcoords\",\"line\":{\"colorbar\":{\"outlinewidth\":0,\"ticks\":\"\"}}}],\"scatterpolargl\":[{\"type\":\"scatterpolargl\",\"marker\":{\"colorbar\":{\"outlinewidth\":0,\"ticks\":\"\"}}}],\"bar\":[{\"error_x\":{\"color\":\"#2a3f5f\"},\"error_y\":{\"color\":\"#2a3f5f\"},\"marker\":{\"line\":{\"color\":\"#E5ECF6\",\"width\":0.5},\"pattern\":{\"fillmode\":\"overlay\",\"size\":10,\"solidity\":0.2}},\"type\":\"bar\"}],\"scattergeo\":[{\"type\":\"scattergeo\",\"marker\":{\"colorbar\":{\"outlinewidth\":0,\"ticks\":\"\"}}}],\"scatterpolar\":[{\"type\":\"scatterpolar\",\"marker\":{\"colorbar\":{\"outlinewidth\":0,\"ticks\":\"\"}}}],\"histogram\":[{\"marker\":{\"pattern\":{\"fillmode\":\"overlay\",\"size\":10,\"solidity\":0.2}},\"type\":\"histogram\"}],\"scattergl\":[{\"type\":\"scattergl\",\"marker\":{\"colorbar\":{\"outlinewidth\":0,\"ticks\":\"\"}}}],\"scatter3d\":[{\"type\":\"scatter3d\",\"line\":{\"colorbar\":{\"outlinewidth\":0,\"ticks\":\"\"}},\"marker\":{\"colorbar\":{\"outlinewidth\":0,\"ticks\":\"\"}}}],\"scattermapbox\":[{\"type\":\"scattermapbox\",\"marker\":{\"colorbar\":{\"outlinewidth\":0,\"ticks\":\"\"}}}],\"scatterternary\":[{\"type\":\"scatterternary\",\"marker\":{\"colorbar\":{\"outlinewidth\":0,\"ticks\":\"\"}}}],\"scattercarpet\":[{\"type\":\"scattercarpet\",\"marker\":{\"colorbar\":{\"outlinewidth\":0,\"ticks\":\"\"}}}],\"carpet\":[{\"aaxis\":{\"endlinecolor\":\"#2a3f5f\",\"gridcolor\":\"white\",\"linecolor\":\"white\",\"minorgridcolor\":\"white\",\"startlinecolor\":\"#2a3f5f\"},\"baxis\":{\"endlinecolor\":\"#2a3f5f\",\"gridcolor\":\"white\",\"linecolor\":\"white\",\"minorgridcolor\":\"white\",\"startlinecolor\":\"#2a3f5f\"},\"type\":\"carpet\"}],\"table\":[{\"cells\":{\"fill\":{\"color\":\"#EBF0F8\"},\"line\":{\"color\":\"white\"}},\"header\":{\"fill\":{\"color\":\"#C8D4E3\"},\"line\":{\"color\":\"white\"}},\"type\":\"table\"}],\"barpolar\":[{\"marker\":{\"line\":{\"color\":\"#E5ECF6\",\"width\":0.5},\"pattern\":{\"fillmode\":\"overlay\",\"size\":10,\"solidity\":0.2}},\"type\":\"barpolar\"}],\"pie\":[{\"automargin\":true,\"type\":\"pie\"}]},\"layout\":{\"autotypenumbers\":\"strict\",\"colorway\":[\"#636efa\",\"#EF553B\",\"#00cc96\",\"#ab63fa\",\"#FFA15A\",\"#19d3f3\",\"#FF6692\",\"#B6E880\",\"#FF97FF\",\"#FECB52\"],\"font\":{\"color\":\"#2a3f5f\"},\"hovermode\":\"closest\",\"hoverlabel\":{\"align\":\"left\"},\"paper_bgcolor\":\"white\",\"plot_bgcolor\":\"#E5ECF6\",\"polar\":{\"bgcolor\":\"#E5ECF6\",\"angularaxis\":{\"gridcolor\":\"white\",\"linecolor\":\"white\",\"ticks\":\"\"},\"radialaxis\":{\"gridcolor\":\"white\",\"linecolor\":\"white\",\"ticks\":\"\"}},\"ternary\":{\"bgcolor\":\"#E5ECF6\",\"aaxis\":{\"gridcolor\":\"white\",\"linecolor\":\"white\",\"ticks\":\"\"},\"baxis\":{\"gridcolor\":\"white\",\"linecolor\":\"white\",\"ticks\":\"\"},\"caxis\":{\"gridcolor\":\"white\",\"linecolor\":\"white\",\"ticks\":\"\"}},\"coloraxis\":{\"colorbar\":{\"outlinewidth\":0,\"ticks\":\"\"}},\"colorscale\":{\"sequential\":[[0.0,\"#0d0887\"],[0.1111111111111111,\"#46039f\"],[0.2222222222222222,\"#7201a8\"],[0.3333333333333333,\"#9c179e\"],[0.4444444444444444,\"#bd3786\"],[0.5555555555555556,\"#d8576b\"],[0.6666666666666666,\"#ed7953\"],[0.7777777777777778,\"#fb9f3a\"],[0.8888888888888888,\"#fdca26\"],[1.0,\"#f0f921\"]],\"sequentialminus\":[[0.0,\"#0d0887\"],[0.1111111111111111,\"#46039f\"],[0.2222222222222222,\"#7201a8\"],[0.3333333333333333,\"#9c179e\"],[0.4444444444444444,\"#bd3786\"],[0.5555555555555556,\"#d8576b\"],[0.6666666666666666,\"#ed7953\"],[0.7777777777777778,\"#fb9f3a\"],[0.8888888888888888,\"#fdca26\"],[1.0,\"#f0f921\"]],\"diverging\":[[0,\"#8e0152\"],[0.1,\"#c51b7d\"],[0.2,\"#de77ae\"],[0.3,\"#f1b6da\"],[0.4,\"#fde0ef\"],[0.5,\"#f7f7f7\"],[0.6,\"#e6f5d0\"],[0.7,\"#b8e186\"],[0.8,\"#7fbc41\"],[0.9,\"#4d9221\"],[1,\"#276419\"]]},\"xaxis\":{\"gridcolor\":\"white\",\"linecolor\":\"white\",\"ticks\":\"\",\"title\":{\"standoff\":15},\"zerolinecolor\":\"white\",\"automargin\":true,\"zerolinewidth\":2},\"yaxis\":{\"gridcolor\":\"white\",\"linecolor\":\"white\",\"ticks\":\"\",\"title\":{\"standoff\":15},\"zerolinecolor\":\"white\",\"automargin\":true,\"zerolinewidth\":2},\"scene\":{\"xaxis\":{\"backgroundcolor\":\"#E5ECF6\",\"gridcolor\":\"white\",\"linecolor\":\"white\",\"showbackground\":true,\"ticks\":\"\",\"zerolinecolor\":\"white\",\"gridwidth\":2},\"yaxis\":{\"backgroundcolor\":\"#E5ECF6\",\"gridcolor\":\"white\",\"linecolor\":\"white\",\"showbackground\":true,\"ticks\":\"\",\"zerolinecolor\":\"white\",\"gridwidth\":2},\"zaxis\":{\"backgroundcolor\":\"#E5ECF6\",\"gridcolor\":\"white\",\"linecolor\":\"white\",\"showbackground\":true,\"ticks\":\"\",\"zerolinecolor\":\"white\",\"gridwidth\":2}},\"shapedefaults\":{\"line\":{\"color\":\"#2a3f5f\"}},\"annotationdefaults\":{\"arrowcolor\":\"#2a3f5f\",\"arrowhead\":0,\"arrowwidth\":1},\"geo\":{\"bgcolor\":\"white\",\"landcolor\":\"#E5ECF6\",\"subunitcolor\":\"white\",\"showland\":true,\"showlakes\":true,\"lakecolor\":\"white\"},\"title\":{\"x\":0.05},\"mapbox\":{\"style\":\"light\"}}},\"xaxis\":{\"anchor\":\"y\",\"domain\":[0.0,1.0],\"title\":{\"text\":\"Zone\"}},\"yaxis\":{\"anchor\":\"x\",\"domain\":[0.0,1.0],\"title\":{\"text\":\"Temperature_C\"}},\"legend\":{\"tracegroupgap\":0},\"margin\":{\"t\":60},\"barmode\":\"relative\"},                        {\"responsive\": true}                    ).then(function(){\n",
              "                            \n",
              "var gd = document.getElementById('52bd7d82-6728-47f0-bf81-3197d69e0078');\n",
              "var x = new MutationObserver(function (mutations, observer) {{\n",
              "        var display = window.getComputedStyle(gd).display;\n",
              "        if (!display || display === 'none') {{\n",
              "            console.log([gd, 'removed!']);\n",
              "            Plotly.purge(gd);\n",
              "            observer.disconnect();\n",
              "        }}\n",
              "}});\n",
              "\n",
              "// Listen for the removal of the full notebook cells\n",
              "var notebookContainer = gd.closest('#notebook-container');\n",
              "if (notebookContainer) {{\n",
              "    x.observe(notebookContainer, {childList: true});\n",
              "}}\n",
              "\n",
              "// Listen for the clearing of the current output cell\n",
              "var outputEl = gd.closest('.output');\n",
              "if (outputEl) {{\n",
              "    x.observe(outputEl, {childList: true});\n",
              "}}\n",
              "\n",
              "                        })                };                            </script>        </div>\n",
              "</body>\n",
              "</html>"
            ]
          },
          "metadata": {}
        }
      ]
    },
    {
      "cell_type": "markdown",
      "metadata": {
        "id": "jq6sZbij4n5g"
      },
      "source": [
        "### Question 5:\n",
        "* Visualize the lon lat data on a map to show how the case traveled.  You may incorporate any other additional information to make this more impactful. Imagine that this would be included in your presentation to the customer. (Non techical audience) (5 pts)\n",
        "\n",
        "**Do not worry if this looks like non-sense on a map.  Ex:  The trip may appear to occur over water or in a forest because this is a toy dataset.**"
      ]
    },
    {
      "cell_type": "code",
      "execution_count": null,
      "metadata": {
        "id": "S0NrgqkM5a3m"
      },
      "outputs": [],
      "source": [
        "# YOUR CODE HERE:"
      ]
    },
    {
      "cell_type": "markdown",
      "metadata": {
        "id": "V5nvTftA3IrL"
      },
      "source": [
        "# Part 3: Customer Questions\n"
      ]
    },
    {
      "cell_type": "markdown",
      "metadata": {
        "id": "RLBee4li3gZ5"
      },
      "source": [
        "### Question 6:\n",
        "\n",
        "The customer wants to understand the efficieny of ther DC operations.\n",
        "* Based on what you see in the data, (all zones except for STORE), which parts of their operation are most & least \"efficient? (10 pts)"
      ]
    },
    {
      "cell_type": "code",
      "execution_count": 17,
      "metadata": {
        "id": "9Ad7Wwa23HzQ",
        "colab": {
          "base_uri": "https://localhost:8080/"
        },
        "outputId": "7b071874-e259-40a7-e215-2b4adaba74f9"
      },
      "outputs": [
        {
          "output_type": "stream",
          "name": "stdout",
          "text": [
            "Tiempo de la caja 2 en DC_1.... 0 days 02:52:30.149000\n"
          ]
        }
      ],
      "source": [
        "# YOUR CODE HERE\n",
        "A1\n",
        "#Tiempo de la caja #2 en el sitio \"DC 1\"\n",
        "DC_1= A1[A1['Site'] == 'DC 1'].time_est\n",
        "DC_1=DC_1.sort_values()\n",
        "DC_1\n",
        "DC_1_2=DC_1[20]-DC_1[22]\n",
        "print('Tiempo de la caja 2 en DC_1....',DC_1_2)"
      ]
    },
    {
      "cell_type": "code",
      "source": [
        "#Tiempo de la caja #2 en el sitio \"DC 2\"\n",
        "DC_2= A1[A1['Site'] == 'DC 2'].time_est\n",
        "DC_2=DC_2.sort_values()\n",
        "DC_2\n",
        "DC_2_2=DC_2[1608]-DC_2[7]\n",
        "print('Tiempo que estuvo la caja 2 en DC 2 fue de....',DC_2_2)"
      ],
      "metadata": {
        "colab": {
          "base_uri": "https://localhost:8080/"
        },
        "id": "uBHzdfdafnVV",
        "outputId": "38608287-9f72-4704-d1f4-f3d9a4424715"
      },
      "execution_count": 19,
      "outputs": [
        {
          "output_type": "stream",
          "name": "stdout",
          "text": [
            "Tiempo que estuvo la caja 2 en DC 2 fue de.... 0 days 16:39:51.467000\n"
          ]
        }
      ]
    },
    {
      "cell_type": "markdown",
      "metadata": {
        "id": "KxsNLU4u4CT9"
      },
      "source": [
        "Por lo tanto fue más eficiente DC_1 ya que tardó menos tiempo."
      ]
    },
    {
      "cell_type": "markdown",
      "metadata": {
        "id": "BAR8MQnp4KhD"
      },
      "source": [
        "### Question 7:\n",
        "\n",
        "The customer wants to understand the stocking efficiency in stores.\n",
        "* Based on what you see in the data, how quickly did the store unload and stock the merchandise. (5 pts)\n",
        "* How could this be converted in a KPI that a regional manager could track?  (5 pts)"
      ]
    },
    {
      "cell_type": "code",
      "execution_count": 22,
      "metadata": {
        "id": "6yLtvhHB4ECp",
        "colab": {
          "base_uri": "https://localhost:8080/"
        },
        "outputId": "9a39c760-5bec-482f-e973-97cc4f292cbb"
      },
      "outputs": [
        {
          "output_type": "stream",
          "name": "stdout",
          "text": [
            "Tiempo de descarga de la caja #2 en tienda... 1 days 04:53:08.345000\n"
          ]
        }
      ],
      "source": [
        "#Tiempo de la caja #2 en \"Store\"\n",
        "tienda= A1[A1['Site'] == 'Store'].time_est\n",
        "tienda=tienda.sort_values()\n",
        "efic=tienda[880]-tienda[881]\n",
        "print('Tiempo de descarga de la caja #2 en tienda...',efic)"
      ]
    },
    {
      "cell_type": "markdown",
      "metadata": {
        "id": "FrFLqjpC51rd"
      },
      "source": [
        "YOUR TEXT ANSWER HERE"
      ]
    },
    {
      "cell_type": "markdown",
      "metadata": {
        "id": "YY5cXCAlzX9M"
      },
      "source": [
        "### Question 8:\n",
        "\n",
        "Please explain what you would ask for and what you will do with this data, given that you can talk with the following people (no code needed):\n"
      ]
    },
    {
      "cell_type": "markdown",
      "metadata": {
        "id": "CsSJ9f2fzX9M"
      },
      "source": [
        "YOUR TEXT ANSWER HERE\n",
        "* a. What areas concentrate the most cash flow?\n",
        "* b. At what time does the highest temperature occur?"
      ]
    },
    {
      "cell_type": "markdown",
      "metadata": {
        "id": "U-xbReWjr-_B"
      },
      "source": [
        "## Part 4: Bonus Insights"
      ]
    },
    {
      "cell_type": "markdown",
      "metadata": {
        "id": "XslflGXnsDAF"
      },
      "source": [
        "### Question 8\n",
        "\n",
        "The customer is open to hearing about additional insights you found in the data above and beyond what they asked for.\n",
        "* Based on what you can see in the data, are there any other interesting insights that the customer may want to hear about? (Up to 15 bonus points)\n",
        "\n"
      ]
    },
    {
      "cell_type": "code",
      "execution_count": null,
      "metadata": {
        "id": "CWpCSu8lsCJL"
      },
      "outputs": [],
      "source": [
        "# YOUR CODE HERE\n",
        "# Another metrics that could be interesting would be temperature by time"
      ]
    },
    {
      "cell_type": "markdown",
      "metadata": {
        "id": "EbkD8dTBuuj4"
      },
      "source": [
        "YOUR TEXT ANSWER HERE\n"
      ]
    }
  ],
  "metadata": {
    "colab": {
      "provenance": [],
      "include_colab_link": true
    },
    "kernelspec": {
      "display_name": "Python 3.10.5 64-bit",
      "language": "python",
      "name": "python3"
    },
    "language_info": {
      "codemirror_mode": {
        "name": "ipython",
        "version": 3
      },
      "file_extension": ".py",
      "mimetype": "text/x-python",
      "name": "python",
      "nbconvert_exporter": "python",
      "pygments_lexer": "ipython3",
      "version": "3.10.5"
    },
    "vscode": {
      "interpreter": {
        "hash": "aee8b7b246df8f9039afb4144a1f6fd8d2ca17a180786b69acc140d282b71a49"
      }
    }
  },
  "nbformat": 4,
  "nbformat_minor": 0
}